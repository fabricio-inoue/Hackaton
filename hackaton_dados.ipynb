{
 "cells": [
  {
   "cell_type": "code",
   "execution_count": 1,
   "metadata": {},
   "outputs": [],
   "source": [
    "import pandas as pd\n",
    "\n",
    "# read tsv file\n",
    "test = pd.read_csv('test_df1.tsv', sep='\\t')\n",
    "train = pd.read_csv('train_df.tsv', sep='\\t')\n",
    "\n",
    "#join the two dataframes\n",
    "df = pd.concat([test, train])\n",
    "\n",
    "#remove a list of columns:\n",
    "#df = df.drop(['idioma', 'editor', 'programa', 'direito_acesso', 'departamento', 'area_cnpq', 'keywords', 'tipo', 'patrocinio', 'abstract'], axis=1)"
   ]
  },
  {
   "cell_type": "code",
   "execution_count": 4,
   "metadata": {},
   "outputs": [
    {
     "data": {
      "text/plain": [
       "Index(['data', 'uri', 'idioma', 'editor', 'programa', 'direito_acesso',\n",
       "       'departamento', 'area_cnpq', 'titulo', 'tipo', 'patrocinio', 'keywords',\n",
       "       'abstract', 'palavras_chave', 'resumo'],\n",
       "      dtype='object')"
      ]
     },
     "execution_count": 4,
     "metadata": {},
     "output_type": "execute_result"
    }
   ],
   "source": [
    "df.columns"
   ]
  },
  {
   "cell_type": "code",
   "execution_count": 2,
   "metadata": {},
   "outputs": [],
   "source": [
    "# import a json file and load as as a dict\n",
    "\n",
    "import json\n",
    "with open('ods_regex_patterns.json') as f:\n",
    "    data = json.load(f)"
   ]
  },
  {
   "cell_type": "code",
   "execution_count": 3,
   "metadata": {},
   "outputs": [
    {
     "data": {
      "text/plain": [
       "{'ods1': '\\\\b((?:ajuda financeira).*?(?:pobreza))|((?:ajuda financeira).*?(?:pobre|pobres))|((?:ajuda financeira).*?(?:divisão norte-sul))|((?:desenvolvimento financeiro).*?(?:pobreza))|((?:efeito sobre a).*?(?:distribuição|efeito distributivo|efeitos distributivos))|((?:proteção social).*?(?:acesso))|((?:rede de segurança).*?(?:pobres|pobre|vulnerável|vulneráveis))|((?:recurso econômico).*?(?:acesso))|((?:recursos econômicos).*?(?:acesso))|(extrema pobreza|alívio da pobreza|erradicação da pobreza|redução da pobreza|linha internacional de pobreza|empoderamento financeiro|trabalho infantil|ajuda ao desenvolvimento|proteção social|sistema de proteção social|microfinanc|resiliência dos pobres|banco de alimentos|bancos de alimentos)\\\\b',\n",
       " 'ods2': '\\\\b((?:pequeno produtor).*?(?:fazenda|silvicultura|pastoril|agricultura|pesca|produtor de alimentos|produtores de alimentos))|((?:agricultura).*?(?:potássio))|((?:transgênicos).*?(?:alimentos))|((?:segurança alimentar).*?(?:diversidade genética))|((?:mercado de alimentos).*?(?:restrição|tarifa|acesso|divisão norte-sul|governança do desenvolvimento))|(direitos de posse da terra|desnutrição|desnutrido|desnutrida|subnutrição|subnutrido|subnutrida|produção agrícola|produtividade agrícola|práticas agrícolas|manejo|gestão agrícola|produção alimentar|produção de alimentos|produtividade alimentar|produtividade de alimentos|segurança alimentar|insegurança alimentar|direito à terra|direitos à terra|reforma agrária|reformas agrárias|práticas agrícolas resilientes|fertilizante|melhoria da nutrição alimentar|fome oculta|alimentos geneticamente modificados|práticas agroflorestais|manejo|gestão agroflorestal|inovação agrícola|governança alimentar|cadeia de abastecimento alimentar|cadeia de valor alimentar|mercado de commodities alimentares)\\\\b',\n",
       " 'ods3': '\\\\b((?:humano).*?(?:saúde|doença|remédio|mortalidade))|((?:sistema de saúde).*?(?:acesso|acessível))|(síndrome da criança espancada|doença cardiovascular|doenças cardiovasculares|chagas|abuso infantil|negligência infantil|índice de bem-estar infantil|índice de bem-estar juvenil|doença transmitida pela água|doenças transmitidas pela água|doença tropical|doenças tropicais|doença respiratória crônica|doenças respiratórias crônicas|doença infecciosa|doenças infecciosas|doenças sexualmente transmissíveis|doença sexualmente transmissível|doença transmissível|doenças transmissíveis|sida|aids|hiv|vírus da imunodeficiência humana|malária|hepatite|poliomielite|vacina|câncer|diabetes|mortalidade materna|mortalidade infantil|complicações no parto|mortalidade neonatal|mortalidade prematura|ano de vida ajustado pela qualidade|saúde materna|morte evitável|mortes evitáveis|controle do tabaco|abuso de substâncias|abuso de drogas|uso de tabaco|uso de álcool|dependência de substâncias|dependência química|dependência de drogas|tabagismo|alcoolismo|suicídio|depressão pós-parto|zika vírus|dengue|doença do sono|ebola|saúde mental|transtorno mental|doença mental|doenças mentais|sarampo|doença negligenciada|doenças negligenciadas|diarreia|cólera|febre tifoide|acidente de trânsito|estilo de vida saudável|expectativa de vida|política de saúde|risco de saúde|riscos de saúde|saúde inclusiva|obesidade|determinantes sociais de saúde|dano psicológico|bem-estar psicológico|saúde pública)\\\\b',\n",
       " 'ods4': '\\\\b((?:frequência escolar).*?(?:escola|educação|educacional))|((?:ajuda ao desenvolvimento).*?(?:treinamento de professores))|((?:oportunidades de aprendizado).*?(?:disparidades de gênero|empoderamento))|((?:oportunidade de aprendizado).*?(?:disparidades de gênero|empoderamento))|((?:armadilha da pobreza).*?(?:escolaridade))|((?:escolarização).*?(?:disparidades de gênero|disparidades étnicas|disparidades raciais))|((?:reforma educacional).*?(?:países em desenvolvimento))|((?:países em desenvolvimento).*?(?:efeitos escolares))|((?:treinamento de professores).*?(?:países em desenvolvimento))|(matrícula escolar|educação inclusiva|desigualdade educacional|qualidade educacional|matrícula escolar|matrícula educacional|alfabetização de adultos|taxa de numeramento|ambiente educacional|acesso educacional|educação infantil|educação básica|acessível educação|auxílio financeiro educacional|segurança escolar|segurança na escola|empoderamento da juventude|empoderamento das mulheres|oportunidades iguais|trabalho infantil|discriminatório|desigualdade educacional|lacuna educacional|necessidades de educação especial|sistema educacional inclusivo|exclusão educacional|abandono escolar|cidadania global|educação para o desenvolvimento sustentável|educação ambiental|política educacional|políticas educacionais|educação internacional|reforma da educação|governança educacional|despesas com educação|ajuda externa|desgaste de professores)\\\\b',\n",
       " 'ods5': '\\\\b((?:acesso).*?(?:serviços de planejamento familiar))|((?:trabalho não remunerado).*?(?:desigualdade de gênero))|((?:trabalho de cuidado não remunerado).*?(?:desigualdade de gênero))|((?:acesso).*?(?:saúde reprodutiva))|((?:igualdade).*?(?:direitos sexuais|direitos reprodutivos|direitos do divórcio))|((?:ajuda externa).*?(?:empoderamento das mulheres))|(desigualdade de gênero|igualdade de gênero|igualdade no emprego|diferença salarial entre gêneros|participação feminina na força de trabalho|participação da mulher na força de trabalho|participação das mulheres na força de trabalho|emprego feminino|desemprego feminino|casamento forçado|casamento infantil|casamentos forçados|casamentos infantis|segregação ocupacional|empoderamento de mulheres|empoderamento de meninas|empoderamento feminino|mutilação genital feminina|corte genital feminino|violência doméstica|mulher E violência|menina* E violência|violência sexual|participação política das mulheres|participação política feminina|gestoras femininas|mulheres na liderança|liderança feminina|alocação intrafamiliar|assassinato de honra|assassinatos de honra|antimulheres|anti-mulheres|feminismo|misoginia|infanticídio feminino|infanticídios femininos|tráfico humano|prostituição forçada|direitos das mulheres|injustiça de gênero|injustiças de gênero|discriminação de gênero|disparidades de gênero|diferença de gênero|exploração feminina|equidade doméstica|participação política feminina|sub-representação das mulheres|empreendedorismo feminino|propriedade feminina|desenvolvimento econômico das mulheres|poder das mulheres|orçamento sensível ao gênero|cota de gênero|segregação de gênero|violência de gênero|participação de gênero|mulheres na política|mulher na política|liderança feminina|comportamento contraceptivo|autonomia das mulheres|feminismo agrário|microcrédito|subsistência das mulheres|propriedade das mulheres|pequena proprietária|transversalização de gênero)\\\\b',\n",
       " 'ods6': '\\\\b((?:seguro).*?(?:acesso à água|água potável|limpa))|((?:limpa).*?(?:água potável|fonte de água))|((?:água).*?(?:saneamento e higiene|saneamento e higiene))|((?:qualidade|recurso).*?(?:disponibilidade de água|eficiência do uso da água|abastecimento de água|água potável|banheiro higiênico|banheiros higiênicos|membrana anti-incrustante|membranas anti-incrustantes|gestão da água|toxicologia aquática|toxicologia da água|ecotoxicologia aquática|ecotoxicologia da água))|((?:água doce|fresca).*?(?:qualidade da água))|((?:qualidade da água).*?(?:poluente|poluição|contamina))|((?:água doce|fresca).*?(?:conservação da água|segurança hídrica|escassez de água|conservação da água|pegada hídrica|infraestrutura hídrica|poluição da água|purificação da água|uso da água|usos da água|saneamento|esgoto|))|((?:água residual).*?(?:tratamento))|((?:água).*?(?:ecossistema))|((?:ecossistema).*?(?:proteção de|disruptor endócrino|disruptores endócrinos))|((?:água).*?(?:gestão da água))|((?:gestão da água).*?(?:remediação da poluição|remoção de poluentes))|((?:água subterrânea).*?(?:água doce))|((?:poluição da água|poluente da água).*?(?:água residual|tratamento))|((?:água residual).*?(?:tratamento))|(disponibilidade de água doce|escassez de água|fecalismo a céu aberto|água azul|água verde|água cinza|água negra)\\\\b',\n",
       " 'ods7': '\\\\b((?:fotoquímica).*?(?:energia renovável))|((?:ajuda externa ao desenvolvimento).*?(?:energia renovável))|((?:ajuda externa para o desenvolvimento).*?(?:energia renovável))|((?:assistência oficial ao desenvolvimento).*?(?:eletricidade))|((?:desenvolvimento energético).*?(?:países em desenvolvimento))|(eficiência energética|consumo de energia|transição energética|tecnologia de energia limpa|equidade energética|justiça energética|pobreza energética|política energética|renovável|sociedade de 2000 Watts|micro-rede inteligente|rede inteligente|microrrede inteligente|micro-redes inteligentes|redes inteligentes|microrredes inteligentes|medidor inteligente|medidores inteligentes|eletricidade acessível|consumo de eletricidade|eletricidade confiável|combustível limpo|combustível limpo para cozinhar|pobreza de combustível|energiewende|avaliação do ciclo de vida|avaliações do ciclo de vida|fotovoltaica|divisão fotocatalítica da água|produção de hidrogênio|divisão da água|baterias de íon-lítio|bateria de íon-lítio|rede de calor|calor distrital|aquecimento distrital|consumo de energia residencial|consumo de energia doméstica|segurança energética|eletrificação rural|escada de energia|acesso à energia|conservação de energia|sociedade de baixo carbono|sistema híbrido de energia renovável|sistemas híbridos de energia renovável|troca de combustível|governança energética)\\\\b',\n",
       " 'ods8': '\\\\b((?:Não está em).*?(?:educação|emprego|treinamento))|((?:berço ao berço).*?(?:economia))|(crescimento econômico|política de desenvolvimento econômico|política de emprego|crescimento econômico inclusivo|crescimento sustentável|desenvolvimento econômico|globalização econômica|produtividade econômica|economia de baixo carbono|crescimento inclusivo|microcrédito|renda igual|salários iguais|emprego decente|empregos decentes|emprego de qualidade|empregos de qualidade|criação de emprego|pleno emprego|proteção do emprego|emprego informal|emprego precário|desemprego|trabalho precário|trabalhos precários|microempresa|pequena empresa|média empresa|pequenas empresas|médias empresas|pequenos empresários|pequeno empresário|empresários iniciantes|empresário iniciante|médios empresários|médio empresário|pequenos empreendedores|pequeno empreendedor|médios empreendedores|médios empreendedor|empreendedores iniciantes|empreendedor iniciante|empreendedorismo social|ambiente de trabalho seguro|instituição do mercado de trabalho|instituições do mercado de trabalho|trabalho forçado|trabalho infantil|direito trabalhista|direitos trabalhistas|escravidão moderna|tráfico de pessoas|criança-soldado|crianças-soldado|empregos globais|salário mínimo|economia circular|economia inclusiva|economia rural|Investimento de Desenvolvimento Estrangeiro|Ajuda ao Comércio|sindicatos|sindicato|trabalhadores pobres|compensação de carbono|compensações de carbono|projeto de compensação|projetos de compensação|diversificação econômica|pegada material|eficiência de recursos|dissociação econômica|disparidades do mercado de trabalho|turismo sustentável|ecoturismo|turismo baseado na comunidade|emprego no turismo|política de turismo sustentável|acesso financeiro|inclusão financeira|acesso a serviços bancários)\\\\b',\n",
       " 'ods9': '\\\\b((?:emissões industriais).*?(?:mitigação))|((?:acesso à banda larga).*?(?:países em desenvolvimento))|((?:berço ao berço).*?(?:indústria))|(crescimento industrial|diversificação industrial|desenvolvimento de infraestrutura|investimento em infraestrutura|infraestrutura pública|infraestrutura resiliente|infraestrutura transfronteiriça|infraestruturas públicas|infraestruturas resilientes|infraestruturas transfronteiriças|gestão de resíduos industriais|tratamento de resíduos industriais|congestionamento de tráfego|microempresa|pequena empresa|média empresa|pequenas empresas|médias empresas|médios empresários|médio empresário|pequenos empreendedores|pequeno empreendedor|médios empreendedores|médios empreendedor|pequeno empresário|pequenos empresários|gestão da cadeia de valor|inovação em manufatura|investimento em manufatura|transporte sustentável|transporte acessível|serviços de transporte|transporte inclusivo|investimento em P&D|produto verde|produtos verdes|manufatura sustentável|cadeia de suprimentos de circuito fechado|inovação E industrial|inovação de processo|inovação de produto|inovação inclusiva)\\\\b',\n",
       " 'ods10': '\\\\b((?:igualdade).*?(?:econômica|financeira|socioeconômica))|((?:desigualdade).*?(?:econômica| financeira|socioeconômica))|((?:desenvolvimento).*?(?:tarifas|tarifa|tarifa zero|acesso isento de impostos))|((?:mercado global).*?(?:empoderamento))|(política de reforma econômica|políticas de reforma econômica|inclusão política|política de proteção social|políticas de proteção social|investimento estrangeiro direto|lacuna de desenvolvimento|lacunas de desenvolvimento|remessa de migrantes|migração responsável|política|migração |migratória|políticas|migração |migratórias|divisão norte-sul|exclusão social|marginalização econômica|desigualdade de renda|lei discriminatória|políticas discriminatórias|política discriminatória|empoderamento econômico|transformação econômica|imigração|emigração)\\\\b',\n",
       " 'ods11': '\\\\b((?:cidade|cidades|assentamento humano|assentamentos humanos|urbano|metrópol|vila|municipal).*?(?:gentrificação|congestionamento|transporte|transporte público|moradia|favela|sendai framework|Redução de risco de desastres|RRD|cidade inteligente|cidades inteligentes|edifício resiliente|edifícios resilientes|edifício sustentável|edifícios sustentáveis|design de edifícios|projeto de edifícios|urbanização|edifício de energia zero|edifícios de energia zero|serviço básico|serviços básicos|governança|participação cidadã|planejamento colaborativo|planejamento participativo|inclusão|patrimônio cultural|patrimônio natural|UNESCO|desastre|pegada ecológica|pegada ambiental|resíduos|poluição|poluente|água residual|reciclagem|economia circular|qualidade do ar|espaço verde|espaços verdes|que inclui a natureza|edifício|prédio que inclui a natureza|edifícios|prédios inclusivos da natureza))\\\\b',\n",
       " 'ods12': '\\\\b((?:consumo).*?(?:uso de recursos|derramamento))|((?:produção).*?(?:uso de recursos|derramamento))|(poluição ambiental|resíduos perigosos|produto químico perigoso|produtos químicos perigosos|produto químico tóxico|produtos químicos tóxicos|poluição química|destruição do ozônio|poluição por pesticidas|estresse de pesticidas|redução de pesticidas|avaliação do ciclo de vida|análise do ciclo de vida|análises do ciclo de vida|economia de baixo carbono|pegada ambiental|pegada material|eficiência da colheita|resíduos sólidos|geração de resíduos|responsabilidade social corporativa|sustentabilidade corporativa|comportamento do consumidor|comportamentos do consumidor|reciclagem de resíduos|reciclagem de recursos|reutilização|reuso de recursos|economia de base biológica|resíduo zero|rótulo de sustentabilidade|extração de recurso global|contabilidade do fluxo de materiais|metabolismo social|derramamento de alimentos|derramamento de recursos|eficiência de recursos|consumo sustentável de alimentos|consumo verde|cadeia de suprimentos sustentável|economia circular|do berço ao berço|compras|aquisições sustentáveis|turismo sustentável|subsídios a combustíveis fósseis|gastos com combustíveis fósseis|rótulo de sustentabilidade|rotulagem de sustentabilidade)\\\\b',\n",
       " 'ods13': '\\\\b((?:ação climática|adaptação climática|mudança climática|capitalismo climático|ipcc|efeito climático|equidade climática|feedback climático|finanças climáticas|financiamento da mudança climática|imposição do clima|governança climática|impacto climático|investimento climático|justiça climática|mitigação climática|modelo climático|modelos climáticos|modelagem climática|política climática|políticas climáticas|risco climático|riscos climáticos|serviços climáticos|serviço climático|previsão climática|previsões climáticas|sinal climático|sinais climáticos|ponto de inflexão climática|variação climática|variações climáticas|ecoclimatologia|Fundo Verde E para o Clima|clima regional|climas regionais|clima urbano|climas urbanos|clima).*?(?:gestão adaptativa|conscientização|bioeconomia|carbono|tomada de decisão|redução do risco de desastres|educação ambiental|educação para o desenvolvimento sustentável|conservação de energia|energética|emissão|extremo|cadeia alimentar|cadeias alimentares|estrutura|perigo|ilha|uso da terra|megacidade|consumo|produção|pequenas ilhas em desenvolvimento|antropoceno|atmosfera|mecanismo de desenvolvimento limpo|recuo das geleiras|aquecimento|estufa|interação gelo-oceano|interações gelo-oceano|ciclo do nitrogênio|ciclos do nitrogênio|acidificação dos oceanos|forçante radiativa|gelo marinho|nível do mar|níveis do mar|expansão térmica|unfccc|ozônio))\\\\b',\n",
       " 'ods14': '\\\\b((?:marinho|oceano|oceanos|mar|mares|costa|mangue).*?(?:ciclo da água|ciclos da água|ciclo biogeoquímico|ciclos biogeoquímicos|modelo de circulação oceânica|modelos de circulação oceânica|modelagem de circulação oceânica|iceocean|oceano gelado|eutrófica|marinha|branqueamento de corais|manejo|gestão costeiro|habitat costeiro|habitats costeiros|lixo marinho|acidificação dos oceanos|acidificação|água do mar|pesca|pesca excessiva|rendimento sustentável|área marinha protegida|áreas marinhas protegidas|conservação marinha|ecoturismo|conservação baseada na comunidade|deslizamento de terra marinha|poluição marinha|escoamento de nutrientes|ecoturismo costeiro|pesca destrutiva|pesca local|pescadores artesanais|direitos de pesca|riqueza de espécies|conhecimento ecológico tradicional|pequenas ilhas em desenvolvimento|cota marinha | economia marinha|política marinha))|((?:acidificação).*?(?:água do mar))\\\\b',\n",
       " 'ods15': '\\\\b((?:terrestre|terra|água doce).*?(?:biodivers|riqueza de espécies|bioeconomia|produção biológica|desflorestamento|desertif|sistema terrestre|resiliência ecológica|ecossistema|cascata trófica|nível trófico|teia trófica|espécie ameaçada|espécies ameaçadas|risco de extinção|riscos de extinção|caça furtiva|ilegal|produto de vida selvagem|produtos da vida selvagem|tráfico de animais selvagens|mercado de animais selvagens|mercados de animais selvagens|espécies invasoras|espécies exóticas|usos da terra|uso da terra|degradação do solo|degradação da terra|LULUCF|floresta|conservação do solo|zona úmida|montanha|terra seca|cobertura montanhosa|área protegida|áreas protegidas|REDD|manejo florestal|silvicultura|colheita de madeira|extração ilegal de madeira|corte e queima|cultivo de pousio|cobertura de árvores|restauração do solo|restauração da terra|seca|manejo sustentável da terra|vegetação de montanha|restauração de habitat|espécies da Lista Vermelha|Índice da Lista Vermelha|onda de extinção|fragmentação de habitat|perda de habitat|Protocolo de Nagoya sobre Acesso a Recursos Genéticos|recursos genéticos|invasão biológica|biodiversidade inclusiva|conselho de manejo florestal|aliança para florestas tropicais|certificação florestal|auditoria florestal|ecoturismo|conservação baseada na comunidade|conflito entre humanos e animais selvagens))\\\\b',\n",
       " 'ods16': '\\\\b((?:guerra).*?(?:conflito|guerra|democracia|Convenção de Genebra|tratado|paz))|((?:corrupção).*?(?:instituição|funcionário público|governo|suborno|conflito))|((?:democratização).*?(?:institucional|conflito|tomada de decisão|sociedade|política|ajuda financeira))|((?:tomada de decisão política).*?(?:responsivo|inclusivo|participativo|representativo))|(inocência presumida|falsa confissão|conflito armado|conflitos armados|conflito civil|conflitos civis|manutenção da paz|crime|crimes|criminoso|déficit democrático|conflito étnico|conflitos étnicos|exoneração|genocídio|homicídio|assassinato|tráfico humano|sistema de justiça criminal|sistema de justiça|justiça arbitrária|refugiado|terrorista|violência|tortura|estado de direito efetivo|fluxo de armas|instituição transparente|instituições transparentes|boa governança|identidade legal para todos|liberdade de informação|instituição de direitos humanos|ativistas de direitos humanos|liberdade fundamental|liberdades fundamentais|conflito violento|conflitos violentos|sociedade pacífica|instituição efetiva|instituições eficazes|instituição responsável|instituições responsáveis|instituição inclusiva|instituições inclusivas|abuso infantil|detenção arbitrária|detenção sem sentença|sistema judicial|tribunal criminal|sociedade inclusiva|sociedades inclusivas|instituição responsiva|instituições responsivas|sociedade justa|sociedades justas|recurso|remédio legal|recursos|remédios legais|independência do judiciário|judiciário independente|separação de poderes|extremismo|crime de guerra|sociedade pacífica|crime organizado|transferência ilícita|dinheiro ilícito|tráfico de armas|cibercrime|crime|cibernético|insurgência|instituição democrática|instabilidade política|Convenção de Aarhus|liberdade de imprensa|liberdade de expressão)\\\\b'}"
      ]
     },
     "execution_count": 3,
     "metadata": {},
     "output_type": "execute_result"
    }
   ],
   "source": [
    "data"
   ]
  },
  {
   "cell_type": "code",
   "execution_count": 10,
   "metadata": {},
   "outputs": [
    {
     "data": {
      "text/plain": [
       "0                  NaN\n",
       "1                  NaN\n",
       "2       [ods10, ods16]\n",
       "3                  NaN\n",
       "4                  NaN\n",
       "             ...      \n",
       "6064               NaN\n",
       "6065               NaN\n",
       "6066               NaN\n",
       "6067               NaN\n",
       "6068               NaN\n",
       "Name: ODS, Length: 8092, dtype: object"
      ]
     },
     "execution_count": 10,
     "metadata": {},
     "output_type": "execute_result"
    }
   ],
   "source": [
    "import pandas as pd\n",
    "import numpy as np\n",
    "import re\n",
    "\n",
    "def match_and_append(df, keyword_regex_dict):\n",
    "    # Compile the regex patterns in the dictionary\n",
    "    compiled_patterns = {k: re.compile(v) for k, v in keyword_regex_dict.items()}\n",
    "\n",
    "    # Initialize an empty list for the ODS column\n",
    "    ods_column = []\n",
    "\n",
    "    # Loop through each row in the dataframe\n",
    "    for index, row in df.iterrows():\n",
    "        # Get the text and keyword for the current row\n",
    "        text = row['resumo']\n",
    "        keyword = row['palavras_chave']\n",
    "\n",
    "        # Initialize an empty list for the ODS values for the current row\n",
    "        ods_values = []\n",
    "\n",
    "        # Loop through each regex pattern in the dictionary\n",
    "        for key, pattern in compiled_patterns.items():\n",
    "            # Find all matches of the regex pattern in the text\n",
    "            matches = pattern.findall(text)\n",
    "\n",
    "            # If matches are found, append the corresponding keyword to the ODS values list\n",
    "            if matches:\n",
    "                ods_values.append(key)\n",
    "\n",
    "        # If no matches were found, append NaN\n",
    "        if not ods_values:\n",
    "            ods_values = np.nan\n",
    "\n",
    "        # Append the ODS values for the current row to the ODS column\n",
    "        ods_column.append(ods_values)\n",
    "\n",
    "    # Assign the ODS column to the dataframe\n",
    "    df['ODS'] = ods_column\n",
    "\n",
    "    # Return the updated dataframe\n",
    "    return df\n",
    "\n",
    "\n",
    "# Apply the function to the dataframe\n",
    "\n",
    "df_ods = match_and_append(df, data)\n",
    "df_ods['ODS']"
   ]
  },
  {
   "cell_type": "code",
   "execution_count": 18,
   "metadata": {},
   "outputs": [
    {
     "ename": "UnicodeDecodeError",
     "evalue": "'charmap' codec can't decode byte 0x8d in position 1017: character maps to <undefined>",
     "output_type": "error",
     "traceback": [
      "\u001b[1;31m---------------------------------------------------------------------------\u001b[0m",
      "\u001b[1;31mUnicodeDecodeError\u001b[0m                        Traceback (most recent call last)",
      "Cell \u001b[1;32mIn[18], line 23\u001b[0m\n\u001b[0;32m     21\u001b[0m \u001b[38;5;66;03m# Usage example:\u001b[39;00m\n\u001b[0;32m     22\u001b[0m folder_path \u001b[38;5;241m=\u001b[39m \u001b[38;5;124m'\u001b[39m\u001b[38;5;124mstrings-de-busca-ods\u001b[39m\u001b[38;5;124m'\u001b[39m\n\u001b[1;32m---> 23\u001b[0m result \u001b[38;5;241m=\u001b[39m \u001b[43mget_words_in_braces_from_files\u001b[49m\u001b[43m(\u001b[49m\u001b[43mfolder_path\u001b[49m\u001b[43m)\u001b[49m\n\u001b[0;32m     24\u001b[0m \u001b[38;5;28mprint\u001b[39m(result)\n",
      "Cell \u001b[1;32mIn[18], line 11\u001b[0m, in \u001b[0;36mget_words_in_braces_from_files\u001b[1;34m(folder_path)\u001b[0m\n\u001b[0;32m      9\u001b[0m \u001b[38;5;28;01mwith\u001b[39;00m \u001b[38;5;28mopen\u001b[39m(file_path, \u001b[38;5;124m'\u001b[39m\u001b[38;5;124mr\u001b[39m\u001b[38;5;124m'\u001b[39m) \u001b[38;5;28;01mas\u001b[39;00m file:\n\u001b[0;32m     10\u001b[0m     words_in_braces \u001b[38;5;241m=\u001b[39m []\n\u001b[1;32m---> 11\u001b[0m \u001b[43m    \u001b[49m\u001b[38;5;28;43;01mfor\u001b[39;49;00m\u001b[43m \u001b[49m\u001b[43mline\u001b[49m\u001b[43m \u001b[49m\u001b[38;5;129;43;01min\u001b[39;49;00m\u001b[43m \u001b[49m\u001b[43mfile\u001b[49m\u001b[43m:\u001b[49m\n\u001b[0;32m     12\u001b[0m \u001b[43m        \u001b[49m\u001b[43mwords_in_braces\u001b[49m\u001b[38;5;241;43m.\u001b[39;49m\u001b[43mextend\u001b[49m\u001b[43m(\u001b[49m\u001b[43m[\u001b[49m\n\u001b[0;32m     13\u001b[0m \u001b[43m            \u001b[49m\u001b[43mword\u001b[49m\u001b[38;5;241;43m.\u001b[39;49m\u001b[43mstrip\u001b[49m\u001b[43m(\u001b[49m\u001b[38;5;124;43m\"\u001b[39;49m\u001b[38;5;132;43;01m{}\u001b[39;49;00m\u001b[38;5;124;43m\"\u001b[39;49m\u001b[43m)\u001b[49m\n\u001b[0;32m     14\u001b[0m \u001b[43m            \u001b[49m\u001b[38;5;28;43;01mfor\u001b[39;49;00m\u001b[43m \u001b[49m\u001b[43mword\u001b[49m\u001b[43m \u001b[49m\u001b[38;5;129;43;01min\u001b[39;49;00m\u001b[43m \u001b[49m\u001b[43mline\u001b[49m\u001b[38;5;241;43m.\u001b[39;49m\u001b[43msplit\u001b[49m\u001b[43m(\u001b[49m\u001b[43m)\u001b[49m\n\u001b[0;32m     15\u001b[0m \u001b[43m            \u001b[49m\u001b[38;5;28;43;01mif\u001b[39;49;00m\u001b[43m \u001b[49m\u001b[43mword\u001b[49m\u001b[38;5;241;43m.\u001b[39;49m\u001b[43mstartswith\u001b[49m\u001b[43m(\u001b[49m\u001b[38;5;124;43m\"\u001b[39;49m\u001b[38;5;124;43m{\u001b[39;49m\u001b[38;5;124;43m\"\u001b[39;49m\u001b[43m)\u001b[49m\u001b[43m \u001b[49m\u001b[38;5;129;43;01mand\u001b[39;49;00m\u001b[43m \u001b[49m\u001b[43mword\u001b[49m\u001b[38;5;241;43m.\u001b[39;49m\u001b[43mendswith\u001b[49m\u001b[43m(\u001b[49m\u001b[38;5;124;43m\"\u001b[39;49m\u001b[38;5;124;43m}\u001b[39;49m\u001b[38;5;124;43m\"\u001b[39;49m\u001b[43m)\u001b[49m\n\u001b[0;32m     16\u001b[0m \u001b[43m        \u001b[49m\u001b[43m]\u001b[49m\u001b[43m)\u001b[49m\n\u001b[0;32m     17\u001b[0m     \u001b[38;5;28;01mif\u001b[39;00m words_in_braces:\n",
      "File \u001b[1;32mc:\\Users\\joaos\\AppData\\Local\\Programs\\Python\\Python311\\Lib\\encodings\\cp1252.py:23\u001b[0m, in \u001b[0;36mIncrementalDecoder.decode\u001b[1;34m(self, input, final)\u001b[0m\n\u001b[0;32m     22\u001b[0m \u001b[38;5;28;01mdef\u001b[39;00m \u001b[38;5;21mdecode\u001b[39m(\u001b[38;5;28mself\u001b[39m, \u001b[38;5;28minput\u001b[39m, final\u001b[38;5;241m=\u001b[39m\u001b[38;5;28;01mFalse\u001b[39;00m):\n\u001b[1;32m---> 23\u001b[0m     \u001b[38;5;28;01mreturn\u001b[39;00m codecs\u001b[38;5;241m.\u001b[39mcharmap_decode(\u001b[38;5;28minput\u001b[39m,\u001b[38;5;28mself\u001b[39m\u001b[38;5;241m.\u001b[39merrors,decoding_table)[\u001b[38;5;241m0\u001b[39m]\n",
      "\u001b[1;31mUnicodeDecodeError\u001b[0m: 'charmap' codec can't decode byte 0x8d in position 1017: character maps to <undefined>"
     ]
    }
   ],
   "source": [
    "import os\n",
    "\n",
    "def get_words_in_braces_from_files(folder_path):\n",
    "    files_with_words = {}\n",
    "    \n",
    "    for filename in os.listdir(folder_path):\n",
    "        file_path = os.path.join(folder_path, filename)\n",
    "        if os.path.isfile(file_path) and file_path.endswith('.txt'):\n",
    "            with open(file_path, 'r') as file:\n",
    "                words_in_braces = []\n",
    "                for line in file:\n",
    "                    words_in_braces.extend([\n",
    "                        word.strip(\"{}\")\n",
    "                        for word in line.split()\n",
    "                        if word.startswith(\"{\") and word.endswith(\"}\")\n",
    "                    ])\n",
    "                if words_in_braces:\n",
    "                    files_with_words[filename] = words_in_braces\n",
    "    return files_with_words\n",
    "\n",
    "# Usage example:\n",
    "folder_path = 'strings-de-busca-ods'\n",
    "result = get_words_in_braces_from_files(folder_path)\n",
    "print(result)"
   ]
  },
  {
   "cell_type": "code",
   "execution_count": 5,
   "metadata": {},
   "outputs": [],
   "source": [
    "import pandas as pd\n",
    "\n",
    "def append_key_from_dict(df, words_ods):\n",
    "    \"\"\"\n",
    "    Appends only to that line the key from a dict that is words ods\n",
    "    :param df: DataFrame with columns 'palavras chave' and 'key'\n",
    "    :param words_ods: dict with ods as keys and list of words as values\n",
    "    :return: DataFrame with appended 'key' column\n",
    "    \"\"\"\n",
    "\n",
    "    #create a ods column with specifiyng type object without any values\n",
    "    df['ODS'] = None\n",
    "\n",
    "    # Iterate over each row in the DataFrame\n",
    "    for index, row in df.iterrows():\n",
    "        for ods, words in words_ods.items():\n",
    "            for word in words:\n",
    "                # Check if the word is in the 'palavras chave' column\n",
    "                if word in row['palavras_chave'] or word in row['resumo']:\n",
    "                    # Append the key to the 'key' column\n",
    "                    df.at[index, 'ODS'] = ods\n",
    "                    # Break out of the inner loop since the key is found\n",
    "                    break\n",
    "            else:\n",
    "                # If the word is not found in the row, continue to the next row\n",
    "                continue\n",
    "            # If the key is found, break out of the outer loop as well\n",
    "            break\n",
    "\n",
    "    return df\n",
    "\n",
    "df_ods = append_key_from_dict(df, ods_words)"
   ]
  },
  {
   "cell_type": "code",
   "execution_count": 17,
   "metadata": {},
   "outputs": [
    {
     "name": "stdout",
     "output_type": "stream",
     "text": [
      "NaN count: 5105\n",
      "Value counts:\n",
      "ODS\n",
      "[ods10]                       1039\n",
      "[ods16]                        690\n",
      "[ods10, ods16]                 202\n",
      "[ods3]                         162\n",
      "[ods4]                         123\n",
      "                              ... \n",
      "[ods8, ods11, ods12]             1\n",
      "[ods4, ods8, ods10, ods16]       1\n",
      "[ods2, ods14]                    1\n",
      "[ods5, ods11, ods16]             1\n",
      "[ods8, ods9, ods10]              1\n",
      "Name: count, Length: 104, dtype: int64\n",
      "Sum: 2987\n"
     ]
    }
   ],
   "source": [
    "nan_count = df_ods['ODS'].isna().sum()\n",
    "\n",
    "# Count the non-null values\n",
    "value_counts = df_ods['ODS'].value_counts()\n",
    "\n",
    "sum = df_ods['ODS'].value_counts().sum()\n",
    "\n",
    "print(f'NaN count: {nan_count}')\n",
    "print('Value counts:')\n",
    "print(value_counts)\n",
    "print('Sum:', sum)"
   ]
  },
  {
   "cell_type": "code",
   "execution_count": null,
   "metadata": {},
   "outputs": [],
   "source": []
  }
 ],
 "metadata": {
  "kernelspec": {
   "display_name": "Python 3",
   "language": "python",
   "name": "python3"
  },
  "language_info": {
   "codemirror_mode": {
    "name": "ipython",
    "version": 3
   },
   "file_extension": ".py",
   "mimetype": "text/x-python",
   "name": "python",
   "nbconvert_exporter": "python",
   "pygments_lexer": "ipython3",
   "version": "3.11.6"
  }
 },
 "nbformat": 4,
 "nbformat_minor": 2
}
