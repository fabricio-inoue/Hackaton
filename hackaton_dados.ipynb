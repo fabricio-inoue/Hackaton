{
 "cells": [
  {
   "cell_type": "code",
   "execution_count": 1,
   "metadata": {},
   "outputs": [],
   "source": [
    "import pandas as pd\n",
    "\n",
    "# read tsv file\n",
    "test = pd.read_csv('test_df1.tsv', sep='\\t')\n",
    "train = pd.read_csv('train_df.tsv', sep='\\t')\n",
    "\n",
    "#join the two dataframes\n",
    "df = pd.concat([test, train])\n",
    "\n",
    "#remove a list of columns:\n",
    "#df = df.drop(['idioma', 'editor', 'programa', 'direito_acesso', 'departamento', 'area_cnpq', 'keywords', 'tipo', 'patrocinio', 'abstract'], axis=1)"
   ]
  },
  {
   "cell_type": "code",
   "execution_count": 2,
   "metadata": {},
   "outputs": [
    {
     "data": {
      "text/plain": [
       "Index(['data', 'uri', 'idioma', 'editor', 'programa', 'direito_acesso',\n",
       "       'departamento', 'area_cnpq', 'titulo', 'tipo', 'patrocinio', 'keywords',\n",
       "       'abstract', 'palavras_chave', 'resumo'],\n",
       "      dtype='object')"
      ]
     },
     "execution_count": 2,
     "metadata": {},
     "output_type": "execute_result"
    }
   ],
   "source": [
    "df.columns"
   ]
  },
  {
   "cell_type": "markdown",
   "metadata": {},
   "source": [
    "### Dict Containing the regex patterns"
   ]
  },
  {
   "cell_type": "code",
   "execution_count": 3,
   "metadata": {},
   "outputs": [],
   "source": [
    "# import a json file and load as as a dict\n",
    "\n",
    "import json\n",
    "with open('ods_regex_patterns.json') as f:\n",
    "    data = json.load(f)"
   ]
  },
  {
   "cell_type": "code",
   "execution_count": 4,
   "metadata": {},
   "outputs": [
    {
     "data": {
      "text/plain": [
       "0                  NaN\n",
       "1                  NaN\n",
       "2       [ods10, ods16]\n",
       "3                  NaN\n",
       "4                  NaN\n",
       "             ...      \n",
       "6064               NaN\n",
       "6065               NaN\n",
       "6066               NaN\n",
       "6067               NaN\n",
       "6068               NaN\n",
       "Name: ODS, Length: 8092, dtype: object"
      ]
     },
     "execution_count": 4,
     "metadata": {},
     "output_type": "execute_result"
    }
   ],
   "source": [
    "import pandas as pd\n",
    "import numpy as np\n",
    "import re\n",
    "\n",
    "def match_and_append(df, keyword_regex_dict):\n",
    "    # Compile the regex patterns in the dictionary\n",
    "    compiled_patterns = {k: re.compile(v) for k, v in keyword_regex_dict.items()}\n",
    "\n",
    "    # Initialize an empty list for the ODS column\n",
    "    ods_column = []\n",
    "\n",
    "    # Loop through each row in the dataframe\n",
    "    for index, row in df.iterrows():\n",
    "        # Get the text and keyword for the current row\n",
    "        text = row['resumo']\n",
    "        keyword = row['palavras_chave']\n",
    "\n",
    "        # Initialize an empty list for the ODS values for the current row\n",
    "        ods_values = []\n",
    "\n",
    "        # Loop through each regex pattern in the dictionary\n",
    "        for key, pattern in compiled_patterns.items():\n",
    "            # Find all matches of the regex pattern in the text\n",
    "            matches = pattern.findall(text)\n",
    "\n",
    "            # If matches are found, append the corresponding keyword to the ODS values list\n",
    "            if matches:\n",
    "                ods_values.append(key)\n",
    "\n",
    "        # If no matches were found, append NaN\n",
    "        if not ods_values:\n",
    "            ods_values = np.nan\n",
    "\n",
    "        # Append the ODS values for the current row to the ODS column\n",
    "        ods_column.append(ods_values)\n",
    "\n",
    "    # Assign the ODS column to the dataframe\n",
    "    df['ODS'] = ods_column\n",
    "\n",
    "    # Return the updated dataframe\n",
    "    return df\n",
    "\n",
    "\n",
    "# Apply the function to the dataframe\n",
    "\n",
    "df_ods = match_and_append(df, data)\n",
    "df_ods['ODS']"
   ]
  },
  {
   "cell_type": "code",
   "execution_count": 5,
   "metadata": {},
   "outputs": [
    {
     "name": "stdout",
     "output_type": "stream",
     "text": [
      "NaN count: 5105\n",
      "Value counts:\n",
      "ODS\n",
      "[ods10]                       1039\n",
      "[ods16]                        690\n",
      "[ods10, ods16]                 202\n",
      "[ods3]                         162\n",
      "[ods4]                         123\n",
      "                              ... \n",
      "[ods8, ods11, ods12]             1\n",
      "[ods4, ods8, ods10, ods16]       1\n",
      "[ods2, ods14]                    1\n",
      "[ods5, ods11, ods16]             1\n",
      "[ods8, ods9, ods10]              1\n",
      "Name: count, Length: 104, dtype: int64\n",
      "Sum: 2987\n"
     ]
    }
   ],
   "source": [
    "nan_count = df_ods['ODS'].isna().sum()\n",
    "\n",
    "# Count the non-null values\n",
    "value_counts = df_ods['ODS'].value_counts()\n",
    "\n",
    "sum = df_ods['ODS'].value_counts().sum()\n",
    "\n",
    "print(f'NaN count: {nan_count}')\n",
    "print('Value counts:')\n",
    "print(value_counts)\n",
    "print('Sum:', sum)"
   ]
  },
  {
   "cell_type": "code",
   "execution_count": null,
   "metadata": {},
   "outputs": [],
   "source": [
    "df_ods.to_csv('ods.csv', index=False, sep=';')"
   ]
  },
  {
   "cell_type": "markdown",
   "metadata": {},
   "source": [
    "### Getting the words within braces without conditions"
   ]
  },
  {
   "cell_type": "code",
   "execution_count": null,
   "metadata": {},
   "outputs": [],
   "source": [
    "import os\n",
    "\n",
    "def get_words_in_braces_from_files(folder_path):\n",
    "    files_with_words = {}\n",
    "    \n",
    "    for filename in os.listdir(folder_path):\n",
    "        file_path = os.path.join(folder_path, filename)\n",
    "        if os.path.isfile(file_path) and file_path.endswith('.txt'):\n",
    "            with open(file_path, 'r') as file:\n",
    "                words_in_braces = []\n",
    "                for line in file:\n",
    "                    words_in_braces.extend([\n",
    "                        word.strip(\"{}\")\n",
    "                        for word in line.split()\n",
    "                        if word.startswith(\"{\") and word.endswith(\"}\")\n",
    "                    ])\n",
    "                if words_in_braces:\n",
    "                    files_with_words[filename] = words_in_braces\n",
    "    return files_with_words\n",
    "\n",
    "# Usage example:\n",
    "folder_path = 'strings-de-busca-ods'\n",
    "result = get_words_in_braces_from_files(folder_path)\n",
    "print(result)"
   ]
  },
  {
   "cell_type": "code",
   "execution_count": 5,
   "metadata": {},
   "outputs": [],
   "source": [
    "import pandas as pd\n",
    "\n",
    "def append_key_from_dict(df, words_ods):\n",
    "    \"\"\"\n",
    "    Appends only to that line the key from a dict that is words ods\n",
    "    :param df: DataFrame with columns 'palavras chave' and 'key'\n",
    "    :param words_ods: dict with ods as keys and list of words as values\n",
    "    :return: DataFrame with appended 'key' column\n",
    "    \"\"\"\n",
    "\n",
    "    #create a ods column with specifiyng type object without any values\n",
    "    df['ODS'] = None\n",
    "\n",
    "    # Iterate over each row in the DataFrame\n",
    "    for index, row in df.iterrows():\n",
    "        for ods, words in words_ods.items():\n",
    "            for word in words:\n",
    "                # Check if the word is in the 'palavras chave' column\n",
    "                if word in row['palavras_chave'] or word in row['resumo']:\n",
    "                    # Append the key to the 'key' column\n",
    "                    df.at[index, 'ODS'] = ods\n",
    "                    # Break out of the inner loop since the key is found\n",
    "                    break\n",
    "            else:\n",
    "                # If the word is not found in the row, continue to the next row\n",
    "                continue\n",
    "            # If the key is found, break out of the outer loop as well\n",
    "            break\n",
    "\n",
    "    return df\n",
    "\n",
    "df_ods = append_key_from_dict(df, ods_words)"
   ]
  }
 ],
 "metadata": {
  "kernelspec": {
   "display_name": "Python 3",
   "language": "python",
   "name": "python3"
  },
  "language_info": {
   "codemirror_mode": {
    "name": "ipython",
    "version": 3
   },
   "file_extension": ".py",
   "mimetype": "text/x-python",
   "name": "python",
   "nbconvert_exporter": "python",
   "pygments_lexer": "ipython3",
   "version": "3.11.6"
  }
 },
 "nbformat": 4,
 "nbformat_minor": 2
}
