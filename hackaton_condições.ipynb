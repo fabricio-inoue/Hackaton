{
 "cells": [
  {
   "cell_type": "code",
   "execution_count": 2,
   "metadata": {},
   "outputs": [],
   "source": [
    "import re"
   ]
  },
  {
   "cell_type": "markdown",
   "metadata": {},
   "source": [
    "## OR PATTERN - testing"
   ]
  },
  {
   "cell_type": "code",
   "execution_count": 170,
   "metadata": {},
   "outputs": [
    {
     "data": {
      "text/plain": [
       "'(extrema pobreza|alívio da pobreza|erradicação da pobreza|redução da pobreza|linha internacional de pobreza|empoderamento financeiro|trabalho infantil|ajuda ao desenvolvimento|proteção social|sistema de proteção social|microfinanc|resiliência dos pobres|banco de alimentos|bancos de alimentos)'"
      ]
     },
     "execution_count": 170,
     "metadata": {},
     "output_type": "execute_result"
    }
   ],
   "source": [
    "text = \"\"\"\n",
    "{extrema pobreza} \n",
    "OU {alívio da pobreza} \n",
    "OU {erradicação da pobreza} \n",
    "OU {redução da pobreza} \n",
    "OU {linha internacional de pobreza}\n",
    "OU ({ajuda financeira} E {pobreza})\n",
    "OU ({ajuda financeira} E {pobre} OU {pobres})\n",
    "OU ({ajuda financeira} E {divisão norte-sul})\n",
    "OU ({desenvolvimento financeiro} E {pobreza})\n",
    "OU {empoderamento financeiro} \n",
    "OU ({efeito sobre a} E {distribuição|efeito distributivo})\n",
    "OU ({efeito sobre a} E {distribuição|efeito distributivos})\n",
    "OU {trabalho infantil} \n",
    "OU {ajuda ao desenvolvimento} \n",
    "OU {proteção social} \n",
    "OU {sistema de proteção social} \n",
    "OU ({proteção social} E {acesso}) \n",
    "OU {microfinanc} \n",
    "OU {resiliência dos pobres} \n",
    "OU ({rede de segurança} E {pobres|pobre|vulnerável|vulneráveis})\n",
    "OU ({recurso econômico} E {acesso})\n",
    "OU ({recursos econômicos} E {acesso})\n",
    "OU {banco de alimentos} \n",
    "OU {bancos de alimentos} \n",
    "\"\"\"\n",
    "\n",
    "def get_list_words_between_braces(text):\n",
    "    # remove evrything between () from the text\n",
    "    text = re.sub(r'\\(.*?\\)', '', text)\n",
    "\n",
    "\n",
    "    # Extract the words within curly braces\n",
    "    words = re.findall(r'{(.*?)}', text)\n",
    "\n",
    "    # create string with the words adding | to separate them\n",
    "    words = '|'.join(words)\n",
    "\n",
    "    words_regex = rf'({words})'\n",
    "\n",
    "    # if words list is empty\n",
    "    if words == '':\n",
    "        return None\n",
    "    else:\n",
    "        return words_regex\n",
    "\n",
    "or_words = get_list_words_between_braces(text)\n",
    "or_words"
   ]
  },
  {
   "cell_type": "markdown",
   "metadata": {},
   "source": [
    "## AND PATTERN - testing"
   ]
  },
  {
   "cell_type": "code",
   "execution_count": 129,
   "metadata": {},
   "outputs": [
    {
     "data": {
      "text/plain": [
       "[('', 'word5 word7')]"
      ]
     },
     "execution_count": 129,
     "metadata": {},
     "output_type": "execute_result"
    }
   ],
   "source": [
    "import re\n",
    "\n",
    "texto = \" word5 word7\"\n",
    "padrao = re.compile(r\"((?:word1|word2).*?(?:word3|word4))|((?:word5|word6).*?(?:word7|word8))\")\n",
    "resultado = padrao.findall(texto)\n",
    "resultado"
   ]
  },
  {
   "cell_type": "markdown",
   "metadata": {},
   "source": [
    "## old pattern"
   ]
  },
  {
   "cell_type": "code",
   "execution_count": null,
   "metadata": {},
   "outputs": [],
   "source": [
    "def generate_pattern(input_text):\n",
    "    # Extract the words within curly braces\n",
    "    words = re.findall(r'{(.*?)}', input_text)\n",
    "    #modified_words = transform_to_regex_patterns(words)\n",
    "    \n",
    "    # Create the desired output pattern\n",
    "    pattern = r'((({0})\\b.*\\b(\\W+{1})\\b)|(\\W+{1})\\b.*\\b({0})\\b)'.format(*words)\n",
    "    \n",
    "    return pattern if words else ''"
   ]
  },
  {
   "cell_type": "markdown",
   "metadata": {},
   "source": [
    "## New One"
   ]
  },
  {
   "cell_type": "code",
   "execution_count": 171,
   "metadata": {},
   "outputs": [
    {
     "data": {
      "text/plain": [
       "'((?:ajuda financeira).*?(?:pobre|saude|qualidade))|((?:recurso econômico).*?(?:acesso))'"
      ]
     },
     "execution_count": 171,
     "metadata": {},
     "output_type": "execute_result"
    }
   ],
   "source": [
    "import re\n",
    "\n",
    "def get_list_words_between_parenteses(text):\n",
    "    # Extract the words within curly braces\n",
    "    matches = re.findall(r'\\((.*?)\\)', text)\n",
    "    return matches\n",
    "\n",
    "def generate_pattern(input_text):\n",
    "    # Extract the words within curly braces\n",
    "    words = re.findall(r'{(.*?)}', input_text)\n",
    "    #modified_words = transform_to_regex_patterns(words)\n",
    "    \n",
    "    # Create the desired output pattern\n",
    "    pattern = r'((?:{0}).*?(?:{1}))'.format(*words)\n",
    "    \n",
    "    return pattern if words else ''\n",
    "\n",
    "def create_list_and_patterns(text):\n",
    "    list_of_and_patterns = []\n",
    "    matches = get_list_words_between_parenteses(text)\n",
    "    for input_text in matches:\n",
    "        pattern = generate_pattern(input_text)\n",
    "        list_of_and_patterns.append(pattern)\n",
    "\n",
    "    #join patterns together\n",
    "    and_pattern = '|'.join(list_of_and_patterns)\n",
    "\n",
    "    return and_pattern\n",
    "\n",
    "# Example usage:\n",
    "input_text = \"({ajuda financeira} E {  pobre  |saude|qualidade}), ({recurso econômico} E {acesso})\"\n",
    "and_pattern = create_list_and_patterns(input_text)\n",
    "and_pattern"
   ]
  },
  {
   "cell_type": "markdown",
   "metadata": {},
   "source": [
    "# NOT PATTERN (not applied)"
   ]
  },
  {
   "cell_type": "code",
   "execution_count": 108,
   "metadata": {},
   "outputs": [],
   "source": [
    "pattern = r'^(?!.*word2)word1'\n",
    "\n",
    "#this works:\n",
    "pattern2 = r'^(?!.*word2)|(word1)'\n",
    "\n",
    "# Example usage:\n",
    "input_text = \"({ajuda financeira} E {pobre|saude|qualidade}), ({recurso econômico} E {acesso})\"\n",
    "\n"
   ]
  },
  {
   "cell_type": "markdown",
   "metadata": {},
   "source": [
    "## Merge Both Patterns"
   ]
  },
  {
   "cell_type": "code",
   "execution_count": 130,
   "metadata": {},
   "outputs": [
    {
     "data": {
      "text/plain": [
       "'# test in mock text\\ntext = \"necessitado\"\\nfinal_pattern = merge_ORAND_patterns(or_words, and_patterns)\\n\\nmatches = re.findall(final_pattern, text)\\nbool(matches)'"
      ]
     },
     "execution_count": 130,
     "metadata": {},
     "output_type": "execute_result"
    }
   ],
   "source": [
    "def merge_ORAND_patterns(or_words, and_patterns):\n",
    "    # Create the final pattern to be used with joining the or_words and and_patterns with |\n",
    "    if or_words is not None and and_patterns is not None:\n",
    "        final_pattern = r'\\b'+ and_patterns + \"|\" + or_words + r'\\b'\n",
    "    \n",
    "    # if or_words is None, return only the and_patterns\n",
    "    if or_words is None:\n",
    "        final_pattern = r'\\b'+ and_patterns + r'\\b'\n",
    "\n",
    "    return final_pattern\n",
    "\n",
    "'''# test in mock text\n",
    "text = \"necessitado\"\n",
    "final_pattern = merge_ORAND_patterns(or_words, and_patterns)\n",
    "\n",
    "matches = re.findall(final_pattern, text)\n",
    "bool(matches)'''"
   ]
  },
  {
   "cell_type": "markdown",
   "metadata": {},
   "source": [
    "### Generate dict with all patterns included for each ods"
   ]
  },
  {
   "cell_type": "code",
   "execution_count": 173,
   "metadata": {},
   "outputs": [
    {
     "name": "stdout",
     "output_type": "stream",
     "text": [
      "\\b((?:guerra).*?(?:conflito|guerra|democracia| Convenção de Genebra | tratado | paz))|((?:corrupção).*?(?:instituição | funcionário público | governo | suborno | conflito))|((?:democratização).*?(?:institucional | conflito | tomada de decisão | sociedade | política | ajuda financeira))|((?:tomada de decisão política).*?(?:responsivo | inclusivo | participativo | representativo))|(inocência presumida|falsa confissão|conflito armado|conflitos armados|conflito civil|conflitos civis|manutenção da paz|crime|crimes|criminoso|déficit democrático|conflito étnico|conflitos étnicos|exoneração|genocídio|homicídio|assassinato|tráfico humano|sistema de justiça criminal|sistema de justiça|justiça arbitrária|refugiado|terrorista|violência|tortura|estado de direito efetivo|fluxo de armas|instituição transparente|instituições transparentes|boa governança|identidade legal para todos|liberdade de informação|instituição de direitos humanos|ativistas de direitos humanos|liberdade fundamental|liberdades fundamentais|conflito violento|conflitos violentos|sociedade pacífica|instituição efetiva|instituições eficazes|instituição responsável|instituições responsáveis|instituição inclusiva|instituições inclusivas|abuso infantil|detenção arbitrária|detenção sem sentença|sistema judicial|tribunal criminal|sociedade inclusiva|sociedades inclusivas|instituição responsiva|instituições responsivas|sociedade justa|sociedades justas|recurso|remédio legal|recursos|remédios legais|independência do judiciário|judiciário independente|separação de poderes|extremismo|crime de guerra|sociedade pacífica|crime organizado|transferência ilícita|dinheiro ilícito|tráfico de armas|cibercrime|crime|cibernético|insurgência|instituição democrática|instabilidade política|Convenção de Aarhus|liberdade de imprensa|liberdade de expressão)\\b\n"
     ]
    },
    {
     "data": {
      "text/plain": [
       "{'ods16': '\\\\b((?:guerra).*?(?:conflito|guerra|democracia| Convenção de Genebra | tratado | paz))|((?:corrupção).*?(?:instituição | funcionário público | governo | suborno | conflito))|((?:democratização).*?(?:institucional | conflito | tomada de decisão | sociedade | política | ajuda financeira))|((?:tomada de decisão política).*?(?:responsivo | inclusivo | participativo | representativo))|(inocência presumida|falsa confissão|conflito armado|conflitos armados|conflito civil|conflitos civis|manutenção da paz|crime|crimes|criminoso|déficit democrático|conflito étnico|conflitos étnicos|exoneração|genocídio|homicídio|assassinato|tráfico humano|sistema de justiça criminal|sistema de justiça|justiça arbitrária|refugiado|terrorista|violência|tortura|estado de direito efetivo|fluxo de armas|instituição transparente|instituições transparentes|boa governança|identidade legal para todos|liberdade de informação|instituição de direitos humanos|ativistas de direitos humanos|liberdade fundamental|liberdades fundamentais|conflito violento|conflitos violentos|sociedade pacífica|instituição efetiva|instituições eficazes|instituição responsável|instituições responsáveis|instituição inclusiva|instituições inclusivas|abuso infantil|detenção arbitrária|detenção sem sentença|sistema judicial|tribunal criminal|sociedade inclusiva|sociedades inclusivas|instituição responsiva|instituições responsivas|sociedade justa|sociedades justas|recurso|remédio legal|recursos|remédios legais|independência do judiciário|judiciário independente|separação de poderes|extremismo|crime de guerra|sociedade pacífica|crime organizado|transferência ilícita|dinheiro ilícito|tráfico de armas|cibercrime|crime|cibernético|insurgência|instituição democrática|instabilidade política|Convenção de Aarhus|liberdade de imprensa|liberdade de expressão)\\\\b'}"
      ]
     },
     "execution_count": 173,
     "metadata": {},
     "output_type": "execute_result"
    }
   ],
   "source": [
    "def main():\n",
    "    ods_regex_patterns = {}\n",
    "    for i in range(1, 17):\n",
    "        # open with utf 8 encoding\n",
    "        with open('strings_busca_ods_formated\\\\ods'+str(i)+'.txt', 'r', encoding='utf-8') as file:\n",
    "            data = file.read()\n",
    "            # remove evrything between [] from the text\n",
    "            data = re.sub(r'\\[.*?\\]', '', data, flags=re.DOTALL)\n",
    "            words_regex = get_list_words_between_braces(data)\n",
    "            and_pattern = create_list_and_patterns(data)\n",
    "            finalpattern = merge_ORAND_patterns(words_regex, and_pattern)\n",
    "            a = re.compile(finalpattern)\n",
    "            print(a.pattern)\n",
    "            #get filename\n",
    "            filename = 'ods'+str(i)\n",
    "            #add to dictionary\n",
    "            ods_regex_patterns[filename] = finalpattern\n",
    "    return ods_regex_patterns\n",
    "\n",
    "json = main()\n",
    "\n",
    "#export to json\n",
    "import json\n",
    "with open('ods_regex_patterns.json', 'w') as f:\n",
    "    json.dump(json, f)"
   ]
  },
  {
   "cell_type": "markdown",
   "metadata": {},
   "source": [
    "## Testing Final Patterns"
   ]
  },
  {
   "cell_type": "code",
   "execution_count": 169,
   "metadata": {},
   "outputs": [
    {
     "data": {
      "text/plain": [
       "[('guerra conflito', '', '', '', '')]"
      ]
     },
     "execution_count": 169,
     "metadata": {},
     "output_type": "execute_result"
    }
   ],
   "source": [
    "pattern = r'''((?:guerra).*?(?:conflito|guerra| democracia | Convenção de Genebra | tratado | paz))|((?:corrupção).*?(?:instituição | funcionário público | governo | suborno | conflito))|((?:democratização).*?(?:institucional | conflito | tomada de decisão | sociedade | política | ajuda financeira))|((?:tomada de decisão política).*?(?:responsivo | inclusivo | participativo | representativo))|(inocência presumida|falsa confissão|conflito armado|conflitos armados|conflito civil|conflitos civis|manutenção da paz|crime|crimes|criminoso|déficit democrático|conflito étnico|conflitos étnicos|exoneração|genocídio|homicídio|assassinato|tráfico humano|sistema de justiça criminal|sistema de justiça|justiça arbitrária|refugiado|terrorista|violência|tortura|estado de direito efetivo|fluxo de armas|instituição transparente|instituições transparentes|boa governança|identidade legal para todos|liberdade de informação|instituição de direitos humanos|ativistas de direitos humanos|liberdade fundamental|liberdades fundamentais|conflito violento|conflitos violentos|sociedade pacífica|instituição efetiva|instituições eficazes|instituição responsável|instituições responsáveis|instituição inclusiva|instituições inclusivas|abuso infantil|detenção arbitrária|detenção sem sentença|sistema judicial|tribunal criminal|sociedade inclusiva|sociedades inclusivas|instituição responsiva|instituições responsivas|sociedade justa|sociedades justas|recurso|remédio legal|recursos|remédios legais|independência do judiciário|judiciário independente|separação de poderes|extremismo|crime de guerra|sociedade pacífica|crime organizado|transferência ilícita|dinheiro ilícito|tráfico de armas|cibercrime|crime|cibernético|insurgência|instituição democrática|instabilidade política|Convenção de Aarhus|liberdade de imprensa|liberdade de expressão)'''\n",
    "\n",
    "test = re.compile(pattern)\n",
    "texto = \"guerra conflito\"\n",
    "resultado = test.findall(texto)\n",
    "resultado"
   ]
  },
  {
   "cell_type": "markdown",
   "metadata": {},
   "source": [
    "## Format the txt file to work with regex:"
   ]
  },
  {
   "cell_type": "code",
   "execution_count": 68,
   "metadata": {},
   "outputs": [
    {
     "name": "stdout",
     "output_type": "stream",
     "text": [
      "(        {terrestre|terra|água doce}    E         {biodivers|riqueza de espécies|bioeconomia|produção biológica|desflorestamento|desertif|sistema terrestre|resiliência ecológica|ecossistema|cascata trófica|nível trófico|teia trófica|espécie ameaçada|espécies ameaçadas|risco de extinção|riscos de extinção|caça furtiva/ilegal|produto de vida selvagem|produtos da vida selvagem|tráfico de animais selvagens|mercado de animais selvagens|mercados de animais selvagens|espécies invasoras|espécies exóticas|usos da terra|uso da terra|degradação do solo|degradação da terra|LULUCF|floresta|conservação do solo|zona úmida|montanha|terra seca|cobertura montanhosa|área protegida|áreas protegidas|REDD|manejo florestal|silvicultura|colheita de madeira|extração ilegal de madeira|corte e queima|cultivo de pousio|cobertura de árvores|restauração do solo|restauração da terra|seca|manejo sustentável da terra|vegetação de montanha|restauração de habitat|espécies da Lista Vermelha|Índice da Lista Vermelha|onda de extinção|fragmentação de habitat|perda de habitat|Protocolo de Nagoya sobre Acesso a Recursos Genéticos|recursos genéticos|invasão biológica|biodiversidade inclusiva|conselho de manejo florestal|aliança para florestas tropicais|certificação florestal|auditoria florestal|ecoturismo|conservação baseada na comunidade|conflito entre humanos e animais selvagens})\n"
     ]
    }
   ],
   "source": [
    "# Original text\n",
    "text = \"\"\"\n",
    "(\n",
    "        {terrestre \n",
    "        | terra \n",
    "        | água doce}\n",
    "    E \n",
    "        {biodivers\n",
    "        | riqueza de espécies \n",
    "        | bioeconomia\n",
    "        | produção biológica \n",
    "        | desflorestamento \n",
    "        | desertif \n",
    "        | sistema terrestre \n",
    "        | resiliência ecológica \n",
    "        | ecossistema \n",
    "        | cascata trófica \n",
    "        | nível trófico \n",
    "        | teia trófica \n",
    "        | espécie ameaçada \n",
    "        | espécies ameaçadas \n",
    "        | risco de extinção \n",
    "        | riscos de extinção \n",
    "        | caça furtiva/ilegal \n",
    "        | produto de vida selvagem \n",
    "        | produtos da vida selvagem \n",
    "        | tráfico de animais selvagens \n",
    "        | mercado de animais selvagens \n",
    "        | mercados de animais selvagens \n",
    "        | espécies invasoras \n",
    "        | espécies exóticas \n",
    "        | usos da terra \n",
    "        | uso da terra \n",
    "        | degradação do solo \n",
    "        | degradação da terra \n",
    "        | LULUCF \n",
    "        | floresta \n",
    "        | conservação do solo \n",
    "        | zona úmida \n",
    "        | montanha \n",
    "        | terra seca \n",
    "        | cobertura montanhosa \n",
    "        | área protegida \n",
    "        | áreas protegidas \n",
    "        | REDD \n",
    "        | manejo florestal \n",
    "        | silvicultura \n",
    "        | colheita de madeira \n",
    "        | extração ilegal de madeira \n",
    "        | corte e queima \n",
    "        | cultivo de pousio \n",
    "        | cobertura de árvores \n",
    "        | restauração do solo \n",
    "        | restauração da terra \n",
    "        | seca \n",
    "        | manejo sustentável da terra \n",
    "        | vegetação de montanha \n",
    "        | restauração de habitat \n",
    "        | espécies da Lista Vermelha \n",
    "        | Índice da Lista Vermelha \n",
    "        | onda de extinção \n",
    "        | fragmentação de habitat \n",
    "        | perda de habitat \n",
    "        | Protocolo de Nagoya sobre Acesso a Recursos Genéticos \n",
    "        | recursos genéticos \n",
    "        | invasão biológica \n",
    "        | biodiversidade inclusiva \n",
    "        | conselho de manejo florestal \n",
    "        | aliança para florestas tropicais \n",
    "        | certificação florestal \n",
    "        | auditoria florestal \n",
    "        | ecoturismo \n",
    "        | conservação baseada na comunidade \n",
    "        | conflito entre humanos e animais selvagens})\n",
    "\"\"\"\n",
    "\n",
    "# Remove newlines and tabs\n",
    "pattern = r'\\[.*?\\]'\n",
    "text = re.sub(pattern, '', text, flags=re.DOTALL)\n",
    "text = text.replace(\"\\n\", \"\").replace(\"\\t\", \"\")\n",
    "\n",
    "words = re.split(r\"\\s*\\|\\s*\", text)\n",
    "\n",
    "# Remove extra spaces from individual words\n",
    "words = [word.strip() for word in words]\n",
    "\n",
    "# Join words back together with the pipe character\n",
    "result = \"|\".join(words)\n",
    "\n",
    "#remove \n",
    "# Output the modified text\n",
    "print(result)"
   ]
  },
  {
   "cell_type": "code",
   "execution_count": null,
   "metadata": {},
   "outputs": [],
   "source": []
  }
 ],
 "metadata": {
  "kernelspec": {
   "display_name": "Python 3",
   "language": "python",
   "name": "python3"
  },
  "language_info": {
   "codemirror_mode": {
    "name": "ipython",
    "version": 3
   },
   "file_extension": ".py",
   "mimetype": "text/x-python",
   "name": "python",
   "nbconvert_exporter": "python",
   "pygments_lexer": "ipython3",
   "version": "3.11.6"
  }
 },
 "nbformat": 4,
 "nbformat_minor": 2
}
